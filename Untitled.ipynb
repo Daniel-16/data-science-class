{
 "cells": [
  {
   "cell_type": "code",
   "execution_count": 2,
   "id": "dfbfb9b3",
   "metadata": {},
   "outputs": [
    {
     "data": {
      "text/html": [
       "<div>\n",
       "<style scoped>\n",
       "    .dataframe tbody tr th:only-of-type {\n",
       "        vertical-align: middle;\n",
       "    }\n",
       "\n",
       "    .dataframe tbody tr th {\n",
       "        vertical-align: top;\n",
       "    }\n",
       "\n",
       "    .dataframe thead th {\n",
       "        text-align: right;\n",
       "    }\n",
       "</style>\n",
       "<table border=\"1\" class=\"dataframe\">\n",
       "  <thead>\n",
       "    <tr style=\"text-align: right;\">\n",
       "      <th></th>\n",
       "      <th>Unnamed: 0</th>\n",
       "      <th>Name_of_Covered_Entity</th>\n",
       "      <th>State</th>\n",
       "      <th>year</th>\n",
       "      <th>Individuals_Affected</th>\n",
       "      <th>Type_of_Breach</th>\n",
       "      <th>Location_of_Breached_Information</th>\n",
       "      <th>Date_Posted_or_Updated</th>\n",
       "      <th>Unnamed: 8</th>\n",
       "    </tr>\n",
       "  </thead>\n",
       "  <tbody>\n",
       "    <tr>\n",
       "      <th>0</th>\n",
       "      <td>1</td>\n",
       "      <td>Brooke Army Medical Center</td>\n",
       "      <td>TX</td>\n",
       "      <td>2009</td>\n",
       "      <td>1000</td>\n",
       "      <td>Theft</td>\n",
       "      <td>Paper</td>\n",
       "      <td>30/06/2014</td>\n",
       "      <td>NaN</td>\n",
       "    </tr>\n",
       "    <tr>\n",
       "      <th>1</th>\n",
       "      <td>2</td>\n",
       "      <td>Mid America Kidney Stone Association, LLC</td>\n",
       "      <td>MO</td>\n",
       "      <td>2009</td>\n",
       "      <td>1000</td>\n",
       "      <td>Theft</td>\n",
       "      <td>Network Server</td>\n",
       "      <td>30/05/2014</td>\n",
       "      <td>NaN</td>\n",
       "    </tr>\n",
       "    <tr>\n",
       "      <th>2</th>\n",
       "      <td>3</td>\n",
       "      <td>Alaska Department of Health and Social Services</td>\n",
       "      <td>AK</td>\n",
       "      <td>2009</td>\n",
       "      <td>501</td>\n",
       "      <td>Theft</td>\n",
       "      <td>Other Portable Electronic Device, Other</td>\n",
       "      <td>23/01/2014</td>\n",
       "      <td>NaN</td>\n",
       "    </tr>\n",
       "    <tr>\n",
       "      <th>3</th>\n",
       "      <td>4</td>\n",
       "      <td>Health Services for Children with Special Need...</td>\n",
       "      <td>DC</td>\n",
       "      <td>2009</td>\n",
       "      <td>3800</td>\n",
       "      <td>Loss</td>\n",
       "      <td>Laptop</td>\n",
       "      <td>23/01/2014</td>\n",
       "      <td>NaN</td>\n",
       "    </tr>\n",
       "    <tr>\n",
       "      <th>4</th>\n",
       "      <td>5</td>\n",
       "      <td>L. Douglas Carlson, M.D.</td>\n",
       "      <td>CA</td>\n",
       "      <td>2009</td>\n",
       "      <td>5257</td>\n",
       "      <td>Theft</td>\n",
       "      <td>Desktop Computer</td>\n",
       "      <td>23/01/2014</td>\n",
       "      <td>NaN</td>\n",
       "    </tr>\n",
       "  </tbody>\n",
       "</table>\n",
       "</div>"
      ],
      "text/plain": [
       "   Unnamed: 0                             Name_of_Covered_Entity State  year  \\\n",
       "0           1                         Brooke Army Medical Center    TX  2009   \n",
       "1           2          Mid America Kidney Stone Association, LLC    MO  2009   \n",
       "2           3    Alaska Department of Health and Social Services    AK  2009   \n",
       "3           4  Health Services for Children with Special Need...    DC  2009   \n",
       "4           5                           L. Douglas Carlson, M.D.    CA  2009   \n",
       "\n",
       "   Individuals_Affected Type_of_Breach  \\\n",
       "0                  1000          Theft   \n",
       "1                  1000          Theft   \n",
       "2                   501          Theft   \n",
       "3                  3800           Loss   \n",
       "4                  5257          Theft   \n",
       "\n",
       "          Location_of_Breached_Information Date_Posted_or_Updated  Unnamed: 8  \n",
       "0                                    Paper             30/06/2014         NaN  \n",
       "1                           Network Server             30/05/2014         NaN  \n",
       "2  Other Portable Electronic Device, Other             23/01/2014         NaN  \n",
       "3                                   Laptop             23/01/2014         NaN  \n",
       "4                         Desktop Computer             23/01/2014         NaN  "
      ]
     },
     "execution_count": 2,
     "metadata": {},
     "output_type": "execute_result"
    }
   ],
   "source": [
    "import pandas as pd\n",
    "import matplotlib as plt\n",
    "import seaborn as sb\n",
    "\n",
    "df = pd.read_csv(\"csb.csv\")\n",
    "df.head()"
   ]
  },
  {
   "cell_type": "code",
   "execution_count": 3,
   "id": "c177f78f",
   "metadata": {},
   "outputs": [
    {
     "data": {
      "text/html": [
       "<div>\n",
       "<style scoped>\n",
       "    .dataframe tbody tr th:only-of-type {\n",
       "        vertical-align: middle;\n",
       "    }\n",
       "\n",
       "    .dataframe tbody tr th {\n",
       "        vertical-align: top;\n",
       "    }\n",
       "\n",
       "    .dataframe thead th {\n",
       "        text-align: right;\n",
       "    }\n",
       "</style>\n",
       "<table border=\"1\" class=\"dataframe\">\n",
       "  <thead>\n",
       "    <tr style=\"text-align: right;\">\n",
       "      <th></th>\n",
       "      <th>Unnamed: 0</th>\n",
       "      <th>year</th>\n",
       "      <th>Individuals_Affected</th>\n",
       "      <th>Unnamed: 8</th>\n",
       "    </tr>\n",
       "  </thead>\n",
       "  <tbody>\n",
       "    <tr>\n",
       "      <th>count</th>\n",
       "      <td>1055.00000</td>\n",
       "      <td>1055.000000</td>\n",
       "      <td>1.055000e+03</td>\n",
       "      <td>0.0</td>\n",
       "    </tr>\n",
       "    <tr>\n",
       "      <th>mean</th>\n",
       "      <td>528.00000</td>\n",
       "      <td>2011.450237</td>\n",
       "      <td>3.026202e+04</td>\n",
       "      <td>NaN</td>\n",
       "    </tr>\n",
       "    <tr>\n",
       "      <th>std</th>\n",
       "      <td>304.69657</td>\n",
       "      <td>1.581780</td>\n",
       "      <td>2.278598e+05</td>\n",
       "      <td>NaN</td>\n",
       "    </tr>\n",
       "    <tr>\n",
       "      <th>min</th>\n",
       "      <td>1.00000</td>\n",
       "      <td>1997.000000</td>\n",
       "      <td>5.000000e+02</td>\n",
       "      <td>NaN</td>\n",
       "    </tr>\n",
       "    <tr>\n",
       "      <th>25%</th>\n",
       "      <td>264.50000</td>\n",
       "      <td>2010.000000</td>\n",
       "      <td>1.000000e+03</td>\n",
       "      <td>NaN</td>\n",
       "    </tr>\n",
       "    <tr>\n",
       "      <th>50%</th>\n",
       "      <td>528.00000</td>\n",
       "      <td>2012.000000</td>\n",
       "      <td>2.300000e+03</td>\n",
       "      <td>NaN</td>\n",
       "    </tr>\n",
       "    <tr>\n",
       "      <th>75%</th>\n",
       "      <td>791.50000</td>\n",
       "      <td>2013.000000</td>\n",
       "      <td>6.941000e+03</td>\n",
       "      <td>NaN</td>\n",
       "    </tr>\n",
       "    <tr>\n",
       "      <th>max</th>\n",
       "      <td>1055.00000</td>\n",
       "      <td>2014.000000</td>\n",
       "      <td>4.900000e+06</td>\n",
       "      <td>NaN</td>\n",
       "    </tr>\n",
       "  </tbody>\n",
       "</table>\n",
       "</div>"
      ],
      "text/plain": [
       "       Unnamed: 0         year  Individuals_Affected  Unnamed: 8\n",
       "count  1055.00000  1055.000000          1.055000e+03         0.0\n",
       "mean    528.00000  2011.450237          3.026202e+04         NaN\n",
       "std     304.69657     1.581780          2.278598e+05         NaN\n",
       "min       1.00000  1997.000000          5.000000e+02         NaN\n",
       "25%     264.50000  2010.000000          1.000000e+03         NaN\n",
       "50%     528.00000  2012.000000          2.300000e+03         NaN\n",
       "75%     791.50000  2013.000000          6.941000e+03         NaN\n",
       "max    1055.00000  2014.000000          4.900000e+06         NaN"
      ]
     },
     "execution_count": 3,
     "metadata": {},
     "output_type": "execute_result"
    }
   ],
   "source": [
    "df.describe()"
   ]
  },
  {
   "cell_type": "code",
   "execution_count": 4,
   "id": "d78cabec",
   "metadata": {},
   "outputs": [
    {
     "name": "stdout",
     "output_type": "stream",
     "text": [
      "<class 'pandas.core.frame.DataFrame'>\n",
      "RangeIndex: 1055 entries, 0 to 1054\n",
      "Data columns (total 9 columns):\n",
      " #   Column                            Non-Null Count  Dtype  \n",
      "---  ------                            --------------  -----  \n",
      " 0   Unnamed: 0                        1055 non-null   int64  \n",
      " 1   Name_of_Covered_Entity            1055 non-null   object \n",
      " 2   State                             1055 non-null   object \n",
      " 3   year                              1055 non-null   int64  \n",
      " 4   Individuals_Affected              1055 non-null   int64  \n",
      " 5   Type_of_Breach                    1055 non-null   object \n",
      " 6   Location_of_Breached_Information  1055 non-null   object \n",
      " 7   Date_Posted_or_Updated            1055 non-null   object \n",
      " 8   Unnamed: 8                        0 non-null      float64\n",
      "dtypes: float64(1), int64(3), object(5)\n",
      "memory usage: 74.3+ KB\n"
     ]
    }
   ],
   "source": [
    "df.info()"
   ]
  },
  {
   "cell_type": "code",
   "execution_count": 10,
   "id": "6a7ad1e8",
   "metadata": {},
   "outputs": [
    {
     "data": {
      "text/plain": [
       "<Axes: xlabel='count', ylabel='State'>"
      ]
     },
     "execution_count": 10,
     "metadata": {},
     "output_type": "execute_result"
    },
    {
     "data": {
      "image/png": "[encoded data removed]",
      "text/plain": [
       "<Figure size 640x480 with 1 Axes>"
      ]
     },
     "metadata": {},
     "output_type": "display_data"
    }
   ],
   "source": [
    "year_order = df['year'].value_counts().index\n",
    "state_order = df['State'].value_counts().index\n",
    "attack_order = df['Type_of_Breach'].value_counts().index\n",
    "ind_affect = df['Individuals_Affected'].value_counts().index\n",
    "sb.countplot(data=df, y='Type_of_Breach', order=attack_order)"
   ]
  }
 ],
 "metadata": {
  "kernelspec": {
   "display_name": "Python 3 (ipykernel)",
   "language": "python",
   "name": "python3"
  },
  "language_info": {
   "codemirror_mode": {
    "name": "ipython",
    "version": 3
   },
   "file_extension": ".py",
   "mimetype": "text/x-python",
   "name": "python",
   "nbconvert_exporter": "python",
   "pygments_lexer": "ipython3",
   "version": "3.10.6"
  }
 },
 "nbformat": 4,
 "nbformat_minor": 5
}
